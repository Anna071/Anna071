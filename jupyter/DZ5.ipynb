{
 "cells": [
  {
   "cell_type": "markdown",
   "metadata": {},
   "source": [
    "# Домашняя работа. \n",
    "## Работа с файловой системой и модули\n",
    "## Задание 1\n",
    "Переведите содержимое файла purchase_log.txt в словарь purchases вида:\n",
    "{‘1840e0b9d4’: ‘Продукты’, …}"
   ]
  },
  {
   "cell_type": "code",
   "execution_count": 3,
   "metadata": {},
   "outputs": [],
   "source": [
    "f = open('purchase_log.txt', 'r', encoding='utf-8')\n"
   ]
  },
  {
   "cell_type": "code",
   "execution_count": 4,
   "metadata": {},
   "outputs": [],
   "source": [
    "import json"
   ]
  },
  {
   "cell_type": "code",
   "execution_count": 52,
   "metadata": {},
   "outputs": [
    {
     "name": "stdout",
     "output_type": "stream",
     "text": [
      "{'1840e0b9d4': 'Продукты', '4e4f90fcfb': 'Электроника', 'afea8d72fc': 'Электроника', '373a6055fe': 'Бытовая техника', '9b2ab046f3': 'Электроника', '9f39d307c3': 'Электроника', '44edeffc91': 'Продукты', '704474fa2d': 'Продукты', '1de31be403': 'Бытовая техника', 'b71f36a5e4': 'Продукты'}\n"
     ]
    }
   ],
   "source": [
    "i = 0\n",
    "purches = {}\n",
    "with open('purchase_log.txt', 'r', encoding='utf-8') as f:\n",
    "    for line in f:\n",
    "        line = line.strip()\n",
    "        dict_ = json.loads(line)\n",
    "        purches[dict_['user_id']]=dict_['category']\n",
    "        \n",
    "       # i+=1\n",
    "       # if i > 10:\n",
    "       #     break     \n",
    " \n",
    "#del(purches['user_id']) \n",
    "#print (purches)"
   ]
  },
  {
   "cell_type": "code",
   "execution_count": 34,
   "metadata": {},
   "outputs": [
    {
     "data": {
      "text/plain": [
       "'Продукты'"
      ]
     },
     "execution_count": 34,
     "metadata": {},
     "output_type": "execute_result"
    }
   ],
   "source": [
    "purches['1840e0b9d4']"
   ]
  },
  {
   "cell_type": "markdown",
   "metadata": {},
   "source": [
    "## Задание 2\n",
    "Для каждого user_id в файле visit_log.csv определите третий столбец с категорией покупки (если покупка была, сам файл visit_log.csv изменять не надо). Запишите в файл funnel.csv визиты из файла visit_log.csv, в которых были покупки с указанием категории.\n",
    "Учтите условия на данные:\n",
    "содержимое purchase_log.txt помещается в оперативную память компьютера\n",
    "содержимое visit_log.csv - нет; используйте только построчную обработку этого файла"
   ]
  },
  {
   "cell_type": "code",
   "execution_count": 7,
   "metadata": {},
   "outputs": [
    {
     "data": {
      "text/plain": [
       "0"
      ]
     },
     "execution_count": 7,
     "metadata": {},
     "output_type": "execute_result"
    }
   ],
   "source": [
    "f = open('visit_log.csv', 'r', encoding='utf-8')\n",
    "f.seek(0)"
   ]
  },
  {
   "cell_type": "code",
   "execution_count": 31,
   "metadata": {},
   "outputs": [],
   "source": [
    "i = 0\n",
    "purc = {}\n",
    "with open('visit_log.csv', 'r', encoding='utf-8') as f:\n",
    "    with open('funnel.csv', 'w') as funnel:\n",
    "        for info in f:\n",
    "            info=info.strip().split(',')   \n",
    "            #if info[0] == purches.values()\n",
    "            \n",
    "            if info[0] in purches:\n",
    "                funnel.write (f'{info[0]}, {info[1]}, {purches[info[0]]}\\n')\n",
    "            else: \n",
    "                continue\n",
    "                "
   ]
  }
 ],
 "metadata": {
  "kernelspec": {
   "display_name": "Python 3",
   "language": "python",
   "name": "python3"
  }
 },
 "nbformat": 4,
 "nbformat_minor": 4
}
