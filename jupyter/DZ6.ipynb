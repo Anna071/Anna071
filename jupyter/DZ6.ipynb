{
 "cells": [
  {
   "cell_type": "markdown",
   "metadata": {},
   "source": [
    "# Домашняя работа. \n",
    "## Работа с файловой системой и модули\n",
    "## Задание 1\n",
    "Печатные газеты использовали свой формат дат для каждого выпуска. Для каждой газеты из списка напишите формат указанной даты для перевода в объект datetime:\n",
    "The Moscow Times - Wednesday, October 2, 2002\n",
    "The Guardian - Friday, 11.10.13\n",
    "Daily News - Thursday, 18 August 1977"
   ]
  },
  {
   "cell_type": "code",
   "execution_count": 108,
   "metadata": {},
   "outputs": [],
   "source": [
    "from datetime import datetime, timedelta"
   ]
  },
  {
   "cell_type": "code",
   "execution_count": 76,
   "metadata": {},
   "outputs": [
    {
     "name": "stdout",
     "output_type": "stream",
     "text": [
      "2002-01-02 00:00:00\n",
      "2013-10-11 00:00:00\n",
      "1977-08-18 00:00:00\n"
     ]
    }
   ],
   "source": [
    "The_Moscow_Times='Wednesday,October 2, 2002'\n",
    "The_Guardian='Friday, 11.10.13'\n",
    "Daily_News='Thursday, 18 August 1977'\n",
    "\n",
    "\n",
    "date_The_Moscow_Times=datetime.strptime(The_Moscow_Times, '%A,%B %j, %Y')\n",
    "date_The_Guardian=datetime.strptime(The_Guardian, '%A, %d.%m.%y')\n",
    "date_Daily_News=datetime.strptime(Daily_News, '%A, %d %B %Y')\n",
    "print (f'{date_The_Moscow_Times}\\n{date_The_Guardian}\\n{date_Daily_News}')\n",
    "\n",
    "#не могу понять в чем ошибка с The_Moscow_Times, почему-то не читается месяц"
   ]
  },
  {
   "cell_type": "markdown",
   "metadata": {},
   "source": [
    "## Задание 2\n",
    "\n",
    "Дан поток дат в формате YYYY-MM-DD, в которых встречаются некорректные значения:\n",
    "stream = [‘2018-04-02’, ‘2018-02-29’, ‘2018-19-02’]\n",
    "\n",
    "Напишите функцию, которая проверяет эти даты на корректность. Т. е. для каждой даты возвращает True (дата корректна) или False (некорректная дата)."
   ]
  },
  {
   "cell_type": "code",
   "execution_count": 86,
   "metadata": {},
   "outputs": [
    {
     "name": "stdout",
     "output_type": "stream",
     "text": [
      "Invalid date! 2018-02-29\n",
      "Invalid date! 2018-19-02\n"
     ]
    }
   ],
   "source": [
    "stream = ['2018-04-02', '2018-02-29', '2018-19-02']\n",
    "for elements in stream:\n",
    "    try:\n",
    "        valid_date = datetime.strptime(elements, '%Y-%m-%d')\n",
    "    except ValueError:\n",
    "        print(f'Invalid date! {elements}')"
   ]
  },
  {
   "cell_type": "markdown",
   "metadata": {},
   "source": [
    "## Задание 3\n",
    "Напишите функцию date_range, которая возвращает список дат за период от start_date до end_date. Даты должны вводиться в формате YYYY-MM-DD. В случае неверного формата или при start_date > end_date должен возвращаться пустой список."
   ]
  },
  {
   "cell_type": "code",
   "execution_count": 119,
   "metadata": {},
   "outputs": [
    {
     "name": "stdout",
     "output_type": "stream",
     "text": [
      "Введите дату начала периода  2008-06-03\n",
      "Введите дату окончания периода  2008-07-01\n",
      "2008-06-03\n",
      "2008-06-04\n",
      "2008-06-05\n",
      "2008-06-06\n",
      "2008-06-07\n",
      "2008-06-08\n",
      "2008-06-09\n",
      "2008-06-10\n",
      "2008-06-11\n",
      "2008-06-12\n",
      "2008-06-13\n",
      "2008-06-14\n",
      "2008-06-15\n",
      "2008-06-16\n",
      "2008-06-17\n",
      "2008-06-18\n",
      "2008-06-19\n",
      "2008-06-20\n",
      "2008-06-21\n",
      "2008-06-22\n",
      "2008-06-23\n",
      "2008-06-24\n",
      "2008-06-25\n",
      "2008-06-26\n",
      "2008-06-27\n",
      "2008-06-28\n",
      "2008-06-29\n",
      "2008-06-30\n",
      "2008-07-01\n"
     ]
    }
   ],
   "source": [
    "def date_range (start_date, end_date):\n",
    "    try:\n",
    "        start_date=datetime.strptime(start_date,'%Y-%m-%d')\n",
    "        end_date=datetime.strptime(end_date,'%Y-%m-%d')\n",
    "        while start_date <= end_date:\n",
    "            print(start_date.strftime('%Y-%m-%d'))\n",
    "            start_date += timedelta(days=1)\n",
    "    except Exception:\n",
    "        print ('Ошибка ввода')\n",
    "date_range (input('Введите дату начала периода  '),input('Введите дату окончания периода  '))"
   ]
  },
  {
   "cell_type": "code",
   "execution_count": null,
   "metadata": {},
   "outputs": [],
   "source": []
  }
 ],
 "metadata": {
  "kernelspec": {
   "display_name": "Python 3",
   "language": "python",
   "name": "python3"
  },
  "language_info": {
   "codemirror_mode": {
    "name": "ipython",
    "version": 3
   },
   "file_extension": ".py",
   "mimetype": "text/x-python",
   "name": "python",
   "nbconvert_exporter": "python",
   "pygments_lexer": "ipython3",
   "version": "3.7.6"
  }
 },
 "nbformat": 4,
 "nbformat_minor": 4
}
