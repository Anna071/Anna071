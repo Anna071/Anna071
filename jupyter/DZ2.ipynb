{
 "cells": [
  {
   "cell_type": "markdown",
   "metadata": {},
   "source": [
    "## Домашняя работа\n",
    "# Задание 1"
   ]
  },
  {
   "cell_type": "code",
   "execution_count": null,
   "metadata": {},
   "outputs": [],
   "source": [
    "word=input('Введите слово ', )\n",
    "if len(word) % 2 == 0:\n",
    "    print (word[len(word)//2-1:len(word)//2+1])\n",
    "else:\n",
    "    print (word[len(word)//2])"
   ]
  },
  {
   "cell_type": "markdown",
   "metadata": {},
   "source": [
    "# Задание 2"
   ]
  },
  {
   "cell_type": "code",
   "execution_count": 14,
   "metadata": {},
   "outputs": [
    {
     "name": "stdout",
     "output_type": "stream",
     "text": [
      "Введите число: 5\n",
      "Введите число: 4\n",
      "Введите число: 2\n",
      "Введите число: 8\n",
      "Введите число: 1\n",
      "Введите число: 6\n",
      "Введите число: 1\n",
      "Введите число: 10\n",
      "Введите число: 66\n",
      "Введите число: 0\n",
      "Результат:  103\n"
     ]
    }
   ],
   "source": [
    "summa = 0\n",
    "number = 4\n",
    "while number!= 0:\n",
    "    number=int(input('Введите число: ', ))\n",
    "    summa+=int(number)\n",
    "    #print (sum)\n",
    "    \n",
    "print ('Результат: ', summa)\n",
    "\n",
    "    "
   ]
  },
  {
   "cell_type": "markdown",
   "metadata": {},
   "source": [
    "# Задание 3"
   ]
  },
  {
   "cell_type": "code",
   "execution_count": 30,
   "metadata": {},
   "outputs": [
    {
     "name": "stdout",
     "output_type": "stream",
     "text": [
      "После окончание ввода мужских/женских имен введите end\n",
      "Введите имя парня sdc\n",
      "Введите имя парня cdv\n",
      "Введите имя парня end\n",
      "Введите имя девушки vfdki\n",
      "Введите имя девушки nvp\n",
      "Введите имя девушки end\n",
      "Иделаьные пары: \n",
      " cdv и nvp\n",
      " sdc и vfdki\n"
     ]
    }
   ],
   "source": [
    "print ('После окончание ввода мужских/женских имен введите end')\n",
    "boys=[]\n",
    "while 'end' not in boys:\n",
    "    boys.append(input('Введите имя парня ' , )) \n",
    "boys.remove('end')\n",
    "#print (boys)\n",
    "\n",
    "girls=[]\n",
    "while 'end' not in girls:\n",
    "    girls.append(input('Введите имя девушки ', )) \n",
    "girls.remove('end')\n",
    "#print (sorted(girls))\n",
    "#print (sorted(boys))\n",
    "\n",
    "if len(boys)==len(girls):\n",
    "    print (f\"Иделаьные пары: \")\n",
    "    for boys_, girls_ in zip(sorted(boys),sorted(girls)):\n",
    "        print (f\" {boys_} и {girls_}\")\n",
    "        \n",
    "else:\n",
    "    print('Кому-то может не хватить пары ')"
   ]
  },
  {
   "cell_type": "markdown",
   "metadata": {},
   "source": [
    "# Задание 4"
   ]
  },
  {
   "cell_type": "code",
   "execution_count": 43,
   "metadata": {},
   "outputs": [
    {
     "name": "stdout",
     "output_type": "stream",
     "text": [
      "Средняя температура в странах: \n",
      "\n",
      "Thailand - 23.86 C\n",
      "Germany - 13.80 C\n",
      "Russia - 3.71 C\n",
      "Poland - 12.00 C\n"
     ]
    }
   ],
   "source": [
    "import numpy\n",
    "countries_temperature = [\n",
    "['Thailand', [75.2, 77, 78.8, 73.4, 68, 75.2, 77]],\n",
    "['Germany', [57.2, 55.4, 59, 59, 53.6]],\n",
    "['Russia', [35.6, 37.4, 39.2, 41, 42.8, 39.2, 35.6]],\n",
    "['Poland', [50, 50, 53.6, 57.2, 55.4, 55.4]]\n",
    "]\n",
    "\n",
    "list(countries_temperature)\n",
    "print('Средняя температура в странах:', '\\n')\n",
    "k=len(countries_temperature)\n",
    "while k!=0:\n",
    "    print(f\"{countries_temperature[-k][0]} - {(numpy.mean(countries_temperature[-k][1])-32)/1.8:.2f} C\")\n",
    "    k-=1"
   ]
  },
  {
   "cell_type": "markdown",
   "metadata": {},
   "source": [
    "# Задание 5"
   ]
  },
  {
   "cell_type": "code",
   "execution_count": 34,
   "metadata": {},
   "outputs": [
    {
     "name": "stdout",
     "output_type": "stream",
     "text": [
      "Cуммa всех просмотров  93\n",
      "Число уникальных пользователей  4\n",
      "Среднее количество просмотров на уникального пользователя: 23.25\n"
     ]
    }
   ],
   "source": [
    "stream = [\n",
    "'2018-01-01,user1,3',\n",
    "'2018-01-07,user1,4',\n",
    "'2018-03-29,user1,1',\n",
    "'2018-04-04,user1,13',\n",
    "'2018-01-05,user2,7',\n",
    "'2018-06-14,user3,4',\n",
    "'2018-07-02,user3,10',\n",
    "'2018-03-21,user4,19',\n",
    "'2018-03-22,user4,4',\n",
    "'2018-04-22,user4,8',\n",
    "'2018-05-03,user4,9',\n",
    "'2018-05-11,user4,11',\n",
    "]\n",
    "#list (stream)\n",
    "count_views=[]\n",
    "users=[]\n",
    "count_users=1\n",
    "k=0\n",
    "\n",
    "\n",
    "while k != len(stream):\n",
    "    count_views.append(stream[0+k].split(',')[-1])   \n",
    "    count_views[0+k]=int(count_views[0+k])\n",
    "    users.append(stream[0+k].split(',')[-2])\n",
    "    \n",
    "    k+=1\n",
    "\n",
    "for i in range(len(users)-1):\n",
    "    if users[i+1]!=users[i]:\n",
    "        count_users+=1\n",
    "    else:\n",
    "        continue\n",
    "    i+=1\n",
    "\n",
    "    \n",
    "#print (type(count_views[0]))\n",
    "#print (count_views)\n",
    "#print (users)\n",
    "print('Cуммa всех просмотров ',sum(count_views)) \n",
    "print('Число уникальных пользователей ', count_users)\n",
    "print (f\"Среднее количество просмотров на уникального пользователя: {sum(count_views)/ count_users:.2f}\")"
   ]
  },
  {
   "cell_type": "code",
   "execution_count": 32,
   "metadata": {},
   "outputs": [
    {
     "name": "stdout",
     "output_type": "stream",
     "text": [
      "Cуммa всех просмотров  436\n",
      "Число уникальных пользователей  3\n",
      "Среднее количество просмотров на уникального пользователя: 145.33\n"
     ]
    }
   ],
   "source": [
    "stream = [\n",
    "'2018-01-01,user100,150',\n",
    "'2018-01-07,user99,205',\n",
    "'2018-03-29,user1001,81'\n",
    "]\n",
    "count_views=[]\n",
    "users=[]\n",
    "count_users=1\n",
    "k = 0\n",
    "\n",
    "\n",
    "while k != len(stream):\n",
    "    count_views.append(stream[0+k].split(',')[-1])   \n",
    "    count_views[0+k]=int(count_views[0+k])\n",
    "    users.append(stream[0+k].split(',')[-2])\n",
    "    \n",
    "    k+=1\n",
    "\n",
    "for i in range(len(users)-1):\n",
    "    if users[i+1]!=users[i]:\n",
    "        count_users+=1\n",
    "    else:\n",
    "        continue\n",
    "    i+=1\n",
    "\n",
    "    \n",
    "#print (type(count_views[0]))\n",
    "#print (count_views)\n",
    "#print (users)\n",
    "print('Cуммa всех просмотров ',sum(count_views)) \n",
    "print('Число уникальных пользователей ', count_users)\n",
    "print (f\"Среднее количество просмотров на уникального пользователя: {sum(count_views)/ count_users:.2f}\")"
   ]
  },
  {
   "cell_type": "code",
   "execution_count": null,
   "metadata": {},
   "outputs": [],
   "source": []
  }
 ],
 "metadata": {
  "kernelspec": {
   "display_name": "Python 3",
   "language": "python",
   "name": "python3"
  },
  "language_info": {
   "codemirror_mode": {
    "name": "ipython",
    "version": 3
   },
   "file_extension": ".py",
   "mimetype": "text/x-python",
   "name": "python",
   "nbconvert_exporter": "python",
   "pygments_lexer": "ipython3",
   "version": "3.7.6"
  }
 },
 "nbformat": 4,
 "nbformat_minor": 4
}
