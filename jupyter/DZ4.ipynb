{
 "cells": [
  {
   "cell_type": "code",
   "execution_count": 22,
   "metadata": {},
   "outputs": [
    {
     "data": {
      "text/plain": [
       "<function dict.keys>"
      ]
     },
     "execution_count": 22,
     "metadata": {},
     "output_type": "execute_result"
    }
   ],
   "source": [
    "documents = [\n",
    " {'type': 'passport', 'number': '2207 876234', 'name': 'Василий Гупкин'},\n",
    " {'type': 'invoice', 'number': '11-2', 'name': 'Геннадий Покемонов'},\n",
    " {'type': 'insurance', 'number': '10006', 'name': 'Аристарх Павлов'}\n",
    "]\n",
    "\n",
    "directories = {\n",
    " '1': ['2207 876234', '11-2'],\n",
    " '2': ['10006'],\n",
    " '3': []\n",
    "}\n",
    "directories.keys\n"
   ]
  },
  {
   "cell_type": "markdown",
   "metadata": {},
   "source": [
    "### Пункт 1. \n",
    "Пользователь по команде \"p\" может узнать владельца документа по его номеру"
   ]
  },
  {
   "cell_type": "code",
   "execution_count": 11,
   "metadata": {},
   "outputs": [
    {
     "name": "stdout",
     "output_type": "stream",
     "text": [
      "Владелец документа: Аристарх Павлов \n"
     ]
    }
   ],
   "source": [
    "def p (number):\n",
    "    \"\"\"\n",
    "    Команда р позволяет узнать владельца документа по его номеру\n",
    "    Вводимый параметр - номер (type-str)\n",
    "    Возвращает имя.\n",
    "    \"\"\"\n",
    "    for elements in documents:\n",
    "        if str(number) in ((elements.values())):\n",
    "            print (f\"Владелец документа: {elements['name']} \")\n",
    "            break\n",
    "    else:\n",
    "        print('Документ не найден в базе')\n",
    "            \n",
    "\n",
    "p(10006)"
   ]
  },
  {
   "cell_type": "markdown",
   "metadata": {},
   "source": [
    "## Пункт 2\n",
    "Пункт 2. Пользователь по команде \"s\" может по номеру документа узнать на какой полке он хранится"
   ]
  },
  {
   "cell_type": "code",
   "execution_count": 3,
   "metadata": {},
   "outputs": [
    {
     "name": "stdout",
     "output_type": "stream",
     "text": [
      "Документ хранится на полке: 2\n"
     ]
    }
   ],
   "source": [
    "def s (number):    \n",
    "    \"\"\"\n",
    "    Пользователь по номеру документа может узнать на какой полке он хранится\n",
    "    Функция возвращает номер полки\n",
    "    \n",
    "    \"\"\"\n",
    "    for shelf,info in directories.items():\n",
    "        if str(number) in info:\n",
    "            print (f\"Документ хранится на полке: {shelf}\")\n",
    "            break\n",
    "    else:\n",
    "        print('Документ не найден в базе')\n",
    "\n",
    "s(10006)\n",
    "        "
   ]
  },
  {
   "cell_type": "markdown",
   "metadata": {},
   "source": [
    "## Пункт 3\n",
    "Пользователь по команде \"l\" может увидеть полную информацию по всем документам\n"
   ]
  },
  {
   "cell_type": "code",
   "execution_count": 4,
   "metadata": {},
   "outputs": [
    {
     "name": "stdout",
     "output_type": "stream",
     "text": [
      "№2207 876234, тип: passport, владелец: Василий Гупкин, полка: 1\n",
      "№11-2, тип: invoice, владелец: Геннадий Покемонов, полка: 1\n",
      "№10006, тип: insurance, владелец: Аристарх Павлов, полка: 2\n"
     ]
    }
   ],
   "source": [
    "def l (docs,dirs):\n",
    "    for shelf,content in directories.items():\n",
    "        for doc in documents:\n",
    "            if doc['number'] in content:\n",
    "                print(f\"№{doc['number']}, тип: {doc['type']}, владелец: {doc['name']}, полка: {shelf}\")\n",
    "l(documents,directories) "
   ]
  },
  {
   "cell_type": "markdown",
   "metadata": {},
   "source": [
    "## Пункт 4\n",
    "Пользователь по команде \"ads\" может добавить новую полку"
   ]
  },
  {
   "cell_type": "code",
   "execution_count": 23,
   "metadata": {},
   "outputs": [
    {
     "name": "stdout",
     "output_type": "stream",
     "text": [
      "Такая полка уже существует. Текущий перечень полок: 2\n"
     ]
    }
   ],
   "source": [
    "def ads (number):\n",
    "    for shelf,info in directories.items():\n",
    "        if str(number) in shelf:\n",
    "            print(f'Такая полка уже существует. Текущий перечень полок: {shelf}')            \n",
    "            break\n",
    "    else:\n",
    "        directories.setdefault (str(number))\n",
    "        print(f'Полка добавлена. Текущий перечень полок: {list(directories.keys())}')\n",
    "ads(2)"
   ]
  },
  {
   "cell_type": "markdown",
   "metadata": {},
   "source": [
    "## Пункт 5\n",
    "Пользователь по команде \"ds\" может удалить существующую полку из данных (только если она пустая)"
   ]
  },
  {
   "cell_type": "code",
   "execution_count": 6,
   "metadata": {},
   "outputs": [
    {
     "name": "stdout",
     "output_type": "stream",
     "text": [
      "Такой полки не существует. Текущий перечень полок: ['1', '2', '3']\n"
     ]
    }
   ],
   "source": [
    "def ds (number):\n",
    "    for shelf,info in directories.items():\n",
    "        if str(number) in shelf and (info == None or info==[]):\n",
    "            del (directories[shelf])\n",
    "            print(f'Полка удалена. Текущий перечень полок: {list(directories.keys())}')            \n",
    "            break\n",
    "        elif str(number) in shelf and info != None:\n",
    "            print(f'На полке есть документы, удалите их перед удалением полки. Текущий перечень полок: {list(directories.keys())}')\n",
    "            break\n",
    "    else:\n",
    "        print(f'Такой полки не существует. Текущий перечень полок: {list(directories.keys())}')\n",
    "ds(5)"
   ]
  },
  {
   "cell_type": "markdown",
   "metadata": {},
   "source": [
    "# Main"
   ]
  },
  {
   "cell_type": "code",
   "execution_count": 7,
   "metadata": {},
   "outputs": [
    {
     "name": "stdout",
     "output_type": "stream",
     "text": [
      "Введите команду: вы\n",
      "Введите команду: ds\n",
      "Введите номер полки: 5\n",
      "Такой полки не существует. Текущий перечень полок: ['1', '2', '3']\n",
      "Введите команду: ads\n",
      "Введите номер полки: 4\n",
      "Полка добавлена. Текущий перечень полок: ['1', '2', '3', '4']\n",
      "Введите команду: ds\n",
      "Введите номер полки: 3\n",
      "Полка удалена. Текущий перечень полок: ['1', '2', '4']\n",
      "Введите команду: ds\n",
      "Введите номер полки: 4\n",
      "Полка удалена. Текущий перечень полок: ['1', '2']\n",
      "Введите команду: ds\n",
      "Введите номер полки: 1\n",
      "На полке есть документа, удалите их перед удалением полки. Текущий перечень полок: ['1', '2']\n",
      "Введите команду: q\n",
      "До свидания!\n"
     ]
    }
   ],
   "source": [
    "def main():\n",
    "    while True:\n",
    "        user_input = input('Введите команду: ')\n",
    "        if user_input == 'p':\n",
    "            number = input ('Введите номер документа: ')\n",
    "            p(number)\n",
    "        elif user_input == 's':\n",
    "            number = input ('Введите номер документа: ')\n",
    "            s(number)\n",
    "        elif user_input == 'l':\n",
    "            l(documents,directories)\n",
    "        elif user_input == 'ads':\n",
    "            number = input ('Введите номер полки: ')\n",
    "            ads(number)\n",
    "        elif user_input == 'ds':\n",
    "            number = input ('Введите номер полки: ')\n",
    "            ds(number)\n",
    "        elif user_input == 'q':\n",
    "            print ('До свидания!')\n",
    "            break\n",
    "main()\n"
   ]
  },
  {
   "cell_type": "code",
   "execution_count": null,
   "metadata": {},
   "outputs": [],
   "source": []
  },
  {
   "cell_type": "code",
   "execution_count": null,
   "metadata": {},
   "outputs": [],
   "source": []
  },
  {
   "cell_type": "code",
   "execution_count": null,
   "metadata": {},
   "outputs": [],
   "source": []
  }
 ],
 "metadata": {
  "kernelspec": {
   "display_name": "Python 3",
   "language": "python",
   "name": "python3"
  },
  "language_info": {
   "codemirror_mode": {
    "name": "ipython",
    "version": 3
   },
   "file_extension": ".py",
   "mimetype": "text/x-python",
   "name": "python",
   "nbconvert_exporter": "python",
   "pygments_lexer": "ipython3",
   "version": "3.7.6"
  }
 },
 "nbformat": 4,
 "nbformat_minor": 4
}
